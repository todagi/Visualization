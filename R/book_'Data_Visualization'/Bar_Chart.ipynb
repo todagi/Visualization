{
 "cells": [
  {
   "cell_type": "markdown",
   "metadata": {},
   "source": [
    "## Bar Chart(막대그래프)"
   ]
  },
  {
   "cell_type": "markdown",
   "metadata": {},
   "source": [
    "#### 항목별 도수를 막대의 상대적인 길이로 나타낸 그래프"
   ]
  },
  {
   "cell_type": "code",
   "execution_count": 4,
   "metadata": {},
   "outputs": [
    {
     "data": {
      "text/html": [
       "<ol class=list-inline>\n",
       "\t<li>'A'</li>\n",
       "\t<li>'B'</li>\n",
       "\t<li>'B'</li>\n",
       "\t<li>'A'</li>\n",
       "\t<li>'A'</li>\n",
       "\t<li>'O'</li>\n",
       "\t<li>'A'</li>\n",
       "\t<li>'AB'</li>\n",
       "\t<li>'O'</li>\n",
       "\t<li>'O'</li>\n",
       "\t<li>'B'</li>\n",
       "\t<li>'A'</li>\n",
       "\t<li>'A'</li>\n",
       "\t<li>'O'</li>\n",
       "\t<li>'A'</li>\n",
       "\t<li>'AB'</li>\n",
       "\t<li>'O'</li>\n",
       "\t<li>'B'</li>\n",
       "\t<li>'B'</li>\n",
       "\t<li>'O'</li>\n",
       "\t<li>'A'</li>\n",
       "\t<li>'A'</li>\n",
       "\t<li>'B'</li>\n",
       "\t<li>'A'</li>\n",
       "\t<li>'AB'</li>\n",
       "\t<li>'O'</li>\n",
       "\t<li>'A'</li>\n",
       "\t<li>'AB'</li>\n",
       "\t<li>'B'</li>\n",
       "\t<li>'O'</li>\n",
       "\t<li>'AB'</li>\n",
       "\t<li>'O'</li>\n",
       "\t<li>'A'</li>\n",
       "\t<li>'A'</li>\n",
       "\t<li>'A'</li>\n",
       "\t<li>'O'</li>\n",
       "\t<li>'A'</li>\n",
       "\t<li>'AB'</li>\n",
       "\t<li>'A'</li>\n",
       "\t<li>'O'</li>\n",
       "\t<li>'A'</li>\n",
       "\t<li>'B'</li>\n",
       "\t<li>'B'</li>\n",
       "\t<li>'O'</li>\n",
       "\t<li>'O'</li>\n",
       "\t<li>'O'</li>\n",
       "\t<li>'A'</li>\n",
       "\t<li>'AB'</li>\n",
       "\t<li>'O'</li>\n",
       "\t<li>'O'</li>\n",
       "\t<li>'O'</li>\n",
       "\t<li>'B'</li>\n",
       "\t<li>'B'</li>\n",
       "\t<li>'A'</li>\n",
       "\t<li>'O'</li>\n",
       "\t<li>'O'</li>\n",
       "\t<li>'A'</li>\n",
       "\t<li>'B'</li>\n",
       "\t<li>'AB'</li>\n",
       "\t<li>'AB'</li>\n",
       "\t<li>'B'</li>\n",
       "\t<li>'A'</li>\n",
       "\t<li>'B'</li>\n",
       "\t<li>'A'</li>\n",
       "\t<li>'A'</li>\n",
       "\t<li>'O'</li>\n",
       "\t<li>'A'</li>\n",
       "\t<li>'A'</li>\n",
       "\t<li>'B'</li>\n",
       "\t<li>'B'</li>\n",
       "\t<li>'O'</li>\n",
       "\t<li>'B'</li>\n",
       "\t<li>'A'</li>\n",
       "\t<li>'B'</li>\n",
       "\t<li>'A'</li>\n",
       "\t<li>'AB'</li>\n",
       "\t<li>'A'</li>\n",
       "\t<li>'AB'</li>\n",
       "\t<li>'O'</li>\n",
       "\t<li>'A'</li>\n",
       "\t<li>'A'</li>\n",
       "\t<li>'B'</li>\n",
       "\t<li>'AB'</li>\n",
       "\t<li>'O'</li>\n",
       "\t<li>'A'</li>\n",
       "\t<li>'O'</li>\n",
       "\t<li>'A'</li>\n",
       "\t<li>'A'</li>\n",
       "\t<li>'B'</li>\n",
       "\t<li>'A'</li>\n",
       "\t<li>'B'</li>\n",
       "\t<li>'B'</li>\n",
       "\t<li>'O'</li>\n",
       "\t<li>'A'</li>\n",
       "\t<li>'O'</li>\n",
       "\t<li>'A'</li>\n",
       "\t<li>'AB'</li>\n",
       "\t<li>'O'</li>\n",
       "\t<li>'O'</li>\n",
       "\t<li>'A'</li>\n",
       "</ol>\n"
      ],
      "text/latex": [
       "\\begin{enumerate*}\n",
       "\\item 'A'\n",
       "\\item 'B'\n",
       "\\item 'B'\n",
       "\\item 'A'\n",
       "\\item 'A'\n",
       "\\item 'O'\n",
       "\\item 'A'\n",
       "\\item 'AB'\n",
       "\\item 'O'\n",
       "\\item 'O'\n",
       "\\item 'B'\n",
       "\\item 'A'\n",
       "\\item 'A'\n",
       "\\item 'O'\n",
       "\\item 'A'\n",
       "\\item 'AB'\n",
       "\\item 'O'\n",
       "\\item 'B'\n",
       "\\item 'B'\n",
       "\\item 'O'\n",
       "\\item 'A'\n",
       "\\item 'A'\n",
       "\\item 'B'\n",
       "\\item 'A'\n",
       "\\item 'AB'\n",
       "\\item 'O'\n",
       "\\item 'A'\n",
       "\\item 'AB'\n",
       "\\item 'B'\n",
       "\\item 'O'\n",
       "\\item 'AB'\n",
       "\\item 'O'\n",
       "\\item 'A'\n",
       "\\item 'A'\n",
       "\\item 'A'\n",
       "\\item 'O'\n",
       "\\item 'A'\n",
       "\\item 'AB'\n",
       "\\item 'A'\n",
       "\\item 'O'\n",
       "\\item 'A'\n",
       "\\item 'B'\n",
       "\\item 'B'\n",
       "\\item 'O'\n",
       "\\item 'O'\n",
       "\\item 'O'\n",
       "\\item 'A'\n",
       "\\item 'AB'\n",
       "\\item 'O'\n",
       "\\item 'O'\n",
       "\\item 'O'\n",
       "\\item 'B'\n",
       "\\item 'B'\n",
       "\\item 'A'\n",
       "\\item 'O'\n",
       "\\item 'O'\n",
       "\\item 'A'\n",
       "\\item 'B'\n",
       "\\item 'AB'\n",
       "\\item 'AB'\n",
       "\\item 'B'\n",
       "\\item 'A'\n",
       "\\item 'B'\n",
       "\\item 'A'\n",
       "\\item 'A'\n",
       "\\item 'O'\n",
       "\\item 'A'\n",
       "\\item 'A'\n",
       "\\item 'B'\n",
       "\\item 'B'\n",
       "\\item 'O'\n",
       "\\item 'B'\n",
       "\\item 'A'\n",
       "\\item 'B'\n",
       "\\item 'A'\n",
       "\\item 'AB'\n",
       "\\item 'A'\n",
       "\\item 'AB'\n",
       "\\item 'O'\n",
       "\\item 'A'\n",
       "\\item 'A'\n",
       "\\item 'B'\n",
       "\\item 'AB'\n",
       "\\item 'O'\n",
       "\\item 'A'\n",
       "\\item 'O'\n",
       "\\item 'A'\n",
       "\\item 'A'\n",
       "\\item 'B'\n",
       "\\item 'A'\n",
       "\\item 'B'\n",
       "\\item 'B'\n",
       "\\item 'O'\n",
       "\\item 'A'\n",
       "\\item 'O'\n",
       "\\item 'A'\n",
       "\\item 'AB'\n",
       "\\item 'O'\n",
       "\\item 'O'\n",
       "\\item 'A'\n",
       "\\end{enumerate*}\n"
      ],
      "text/markdown": [
       "1. 'A'\n",
       "2. 'B'\n",
       "3. 'B'\n",
       "4. 'A'\n",
       "5. 'A'\n",
       "6. 'O'\n",
       "7. 'A'\n",
       "8. 'AB'\n",
       "9. 'O'\n",
       "10. 'O'\n",
       "11. 'B'\n",
       "12. 'A'\n",
       "13. 'A'\n",
       "14. 'O'\n",
       "15. 'A'\n",
       "16. 'AB'\n",
       "17. 'O'\n",
       "18. 'B'\n",
       "19. 'B'\n",
       "20. 'O'\n",
       "21. 'A'\n",
       "22. 'A'\n",
       "23. 'B'\n",
       "24. 'A'\n",
       "25. 'AB'\n",
       "26. 'O'\n",
       "27. 'A'\n",
       "28. 'AB'\n",
       "29. 'B'\n",
       "30. 'O'\n",
       "31. 'AB'\n",
       "32. 'O'\n",
       "33. 'A'\n",
       "34. 'A'\n",
       "35. 'A'\n",
       "36. 'O'\n",
       "37. 'A'\n",
       "38. 'AB'\n",
       "39. 'A'\n",
       "40. 'O'\n",
       "41. 'A'\n",
       "42. 'B'\n",
       "43. 'B'\n",
       "44. 'O'\n",
       "45. 'O'\n",
       "46. 'O'\n",
       "47. 'A'\n",
       "48. 'AB'\n",
       "49. 'O'\n",
       "50. 'O'\n",
       "51. 'O'\n",
       "52. 'B'\n",
       "53. 'B'\n",
       "54. 'A'\n",
       "55. 'O'\n",
       "56. 'O'\n",
       "57. 'A'\n",
       "58. 'B'\n",
       "59. 'AB'\n",
       "60. 'AB'\n",
       "61. 'B'\n",
       "62. 'A'\n",
       "63. 'B'\n",
       "64. 'A'\n",
       "65. 'A'\n",
       "66. 'O'\n",
       "67. 'A'\n",
       "68. 'A'\n",
       "69. 'B'\n",
       "70. 'B'\n",
       "71. 'O'\n",
       "72. 'B'\n",
       "73. 'A'\n",
       "74. 'B'\n",
       "75. 'A'\n",
       "76. 'AB'\n",
       "77. 'A'\n",
       "78. 'AB'\n",
       "79. 'O'\n",
       "80. 'A'\n",
       "81. 'A'\n",
       "82. 'B'\n",
       "83. 'AB'\n",
       "84. 'O'\n",
       "85. 'A'\n",
       "86. 'O'\n",
       "87. 'A'\n",
       "88. 'A'\n",
       "89. 'B'\n",
       "90. 'A'\n",
       "91. 'B'\n",
       "92. 'B'\n",
       "93. 'O'\n",
       "94. 'A'\n",
       "95. 'O'\n",
       "96. 'A'\n",
       "97. 'AB'\n",
       "98. 'O'\n",
       "99. 'O'\n",
       "100. 'A'\n",
       "\n",
       "\n"
      ],
      "text/plain": [
       "  [1] \"A\"  \"B\"  \"B\"  \"A\"  \"A\"  \"O\"  \"A\"  \"AB\" \"O\"  \"O\"  \"B\"  \"A\"  \"A\"  \"O\"  \"A\" \n",
       " [16] \"AB\" \"O\"  \"B\"  \"B\"  \"O\"  \"A\"  \"A\"  \"B\"  \"A\"  \"AB\" \"O\"  \"A\"  \"AB\" \"B\"  \"O\" \n",
       " [31] \"AB\" \"O\"  \"A\"  \"A\"  \"A\"  \"O\"  \"A\"  \"AB\" \"A\"  \"O\"  \"A\"  \"B\"  \"B\"  \"O\"  \"O\" \n",
       " [46] \"O\"  \"A\"  \"AB\" \"O\"  \"O\"  \"O\"  \"B\"  \"B\"  \"A\"  \"O\"  \"O\"  \"A\"  \"B\"  \"AB\" \"AB\"\n",
       " [61] \"B\"  \"A\"  \"B\"  \"A\"  \"A\"  \"O\"  \"A\"  \"A\"  \"B\"  \"B\"  \"O\"  \"B\"  \"A\"  \"B\"  \"A\" \n",
       " [76] \"AB\" \"A\"  \"AB\" \"O\"  \"A\"  \"A\"  \"B\"  \"AB\" \"O\"  \"A\"  \"O\"  \"A\"  \"A\"  \"B\"  \"A\" \n",
       " [91] \"B\"  \"B\"  \"O\"  \"A\"  \"O\"  \"A\"  \"AB\" \"O\"  \"O\"  \"A\" "
      ]
     },
     "metadata": {},
     "output_type": "display_data"
    }
   ],
   "source": [
    "blood_type <- c('A','B','B','A','A','O','A','AB','O','O',\n",
    "                'B','A','A','O','A','AB','O','B','B','O',\n",
    "                'A','A','B','A','AB','O','A','AB','B','O',\n",
    "                'AB','O','A','A','A','O','A','AB','A','O',\n",
    "                'A','B','B','O','O','O','A','AB','O','O',\n",
    "                'O','B','B','A','O','O','A','B','AB','AB',\n",
    "                'B','A','B','A','A','O','A','A','B','B',\n",
    "                'O','B','A','B','A','AB','A','AB','O','A',\n",
    "                'A','B','AB','O','A','O','A','A','B','A',\n",
    "                'B','B','O','A','O','A','AB','O','O','A')\n",
    "blood_type         "
   ]
  },
  {
   "cell_type": "code",
   "execution_count": 5,
   "metadata": {},
   "outputs": [
    {
     "data": {
      "text/html": [
       "100"
      ],
      "text/latex": [
       "100"
      ],
      "text/markdown": [
       "100"
      ],
      "text/plain": [
       "[1] 100"
      ]
     },
     "metadata": {},
     "output_type": "display_data"
    }
   ],
   "source": [
    "length(blood_type)"
   ]
  },
  {
   "cell_type": "code",
   "execution_count": 6,
   "metadata": {},
   "outputs": [
    {
     "data": {
      "text/plain": [
       "blood_type\n",
       " A  O  B AB \n",
       "37 28 22 13 "
      ]
     },
     "metadata": {},
     "output_type": "display_data"
    }
   ],
   "source": [
    "s_bt <- sort(table(blood_type), decreasing = T)\n",
    "s_bt"
   ]
  },
  {
   "cell_type": "code",
   "execution_count": 9,
   "metadata": {
    "collapsed": true
   },
   "outputs": [],
   "source": [
    "par(mfrow = c(1, 2))\n",
    "color <- c('Yellow1', 'Pink', 'Blue3', 'palevioletred4')"
   ]
  },
  {
   "cell_type": "code",
   "execution_count": 10,
   "metadata": {},
   "outputs": [
    {
     "data": {
      "image/png": "[encoded data removed]",
      "text/plain": [
       "Plot with title \"혈액형별 막대그래프\""
      ]
     },
     "metadata": {},
     "output_type": "display_data"
    }
   ],
   "source": [
    "barplot(s_bt, col = color, main = '혈액형별 막대그래프')"
   ]
  },
  {
   "cell_type": "markdown",
   "metadata": {},
   "source": [
    "### 실습 : '제20대 국회의원 선거'(2016년 4월 13일) 정당별 결과"
   ]
  },
  {
   "cell_type": "code",
   "execution_count": null,
   "metadata": {
    "collapsed": true
   },
   "outputs": [],
   "source": [
    "require(grDevices)"
   ]
  },
  {
   "cell_type": "code",
   "execution_count": 11,
   "metadata": {
    "collapsed": true
   },
   "outputs": [],
   "source": [
    "congressman <- c(123, 122, 38, 6, 11)"
   ]
  },
  {
   "cell_type": "code",
   "execution_count": 13,
   "metadata": {},
   "outputs": [
    {
     "data": {
      "text/html": [
       "<dl class=dl-horizontal>\n",
       "\t<dt>더불어민주당</dt>\n",
       "\t\t<dd>123</dd>\n",
       "\t<dt>새누리당</dt>\n",
       "\t\t<dd>122</dd>\n",
       "\t<dt>국민의당</dt>\n",
       "\t\t<dd>38</dd>\n",
       "\t<dt>정의당</dt>\n",
       "\t\t<dd>6</dd>\n",
       "\t<dt>무소속</dt>\n",
       "\t\t<dd>11</dd>\n",
       "</dl>\n"
      ],
      "text/latex": [
       "\\begin{description*}\n",
       "\\item[더불어민주당] 123\n",
       "\\item[새누리당] 122\n",
       "\\item[국민의당] 38\n",
       "\\item[정의당] 6\n",
       "\\item[무소속] 11\n",
       "\\end{description*}\n"
      ],
      "text/markdown": [
       "더불어민주당\n",
       ":   123새누리당\n",
       ":   122국민의당\n",
       ":   38정의당\n",
       ":   6무소속\n",
       ":   11\n",
       "\n"
      ],
      "text/plain": [
       "더불어민주당     새누리당     국민의당       정의당       무소속 \n",
       "         123          122           38            6           11 "
      ]
     },
     "metadata": {},
     "output_type": "display_data"
    }
   ],
   "source": [
    "names(congressman) <- c('더불어민주당', '새누리당', '국민의당', '정의당', '무소속')\n",
    "congressman"
   ]
  },
  {
   "cell_type": "code",
   "execution_count": 19,
   "metadata": {},
   "outputs": [
    {
     "ename": "ERROR",
     "evalue": "Error in congressman$name: $ operator is invalid for atomic vectors\n",
     "output_type": "error",
     "traceback": [
      "Error in congressman$name: $ operator is invalid for atomic vectors\nTraceback:\n"
     ]
    }
   ],
   "source": [
    "congressman$name"
   ]
  },
  {
   "cell_type": "code",
   "execution_count": 17,
   "metadata": {},
   "outputs": [
    {
     "data": {
      "image/png": "[encoded data removed]",
      "text/plain": [
       "Plot with title \"정당별 막대그래프\""
      ]
     },
     "metadata": {},
     "output_type": "display_data"
    }
   ],
   "source": [
    "barplot(congressman, col = c('Blue' , 'Red3', 'Green3', 'Yellow', 'Gray'), xlab = '정당명', ylab = '의석수', main = '정당별 막대그래프')"
   ]
  },
  {
   "cell_type": "code",
   "execution_count": 22,
   "metadata": {},
   "outputs": [
    {
     "data": {
      "image/png": "[encoded data removed]",
      "text/plain": [
       "Plot with title \"정당별 막대그래프\""
      ]
     },
     "metadata": {},
     "output_type": "display_data"
    }
   ],
   "source": [
    "barplot(congressman, col = c('Blue' , 'Red3', 'Green3', 'Yellow', 'Gray'), horiz = TRUE, \n",
    "        xlab = '의석수', ylab = '정당명', main = '정당별 막대그래프')\n",
    "\n",
    "# horiz = TRUE : 옆으로 뉘인 그래프 / legend : 범주"
   ]
  },
  {
   "cell_type": "code",
   "execution_count": null,
   "metadata": {
    "collapsed": true
   },
   "outputs": [],
   "source": []
  }
 ],
 "metadata": {
  "kernelspec": {
   "display_name": "R",
   "language": "R",
   "name": "ir"
  },
  "language_info": {
   "codemirror_mode": "r",
   "file_extension": ".r",
   "mimetype": "text/x-r-source",
   "name": "R",
   "pygments_lexer": "r",
   "version": "3.4.2"
  }
 },
 "nbformat": 4,
 "nbformat_minor": 2
}
