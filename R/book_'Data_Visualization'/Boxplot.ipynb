{
 "cells": [
  {
   "cell_type": "markdown",
   "metadata": {},
   "source": [
    "## Boxplot(상자그림)"
   ]
  },
  {
   "cell_type": "markdown",
   "metadata": {},
   "source": [
    "#### 자료의 다섯수치(최솟값, 아래사분위수(Q1), 중앙값, 위사분위수(Q3), 최댓값)으로 작성되는 상자그림\n",
    "#### 다섯수치요약을 구해 위아래 사분위수에 해당되는 수직선상의 위치에 네모형 상자의 양끝이 오도록 하고, 중앙값에 해당되는 위치에 + 표시\n",
    "#### 최솟값과 최댓값의 위치에 점을 찍고, 이 점을 상자의 양 끝과 연결하는 선분을 그려 넣는다. "
   ]
  },
  {
   "cell_type": "markdown",
   "metadata": {},
   "source": [
    "#### 담즙(bile)의 과포화(supersaturation)비율"
   ]
  },
  {
   "cell_type": "code",
   "execution_count": 2,
   "metadata": {},
   "outputs": [
    {
     "data": {
      "text/html": [
       "<ol class=list-inline>\n",
       "\t<li>40</li>\n",
       "\t<li>65</li>\n",
       "\t<li>86</li>\n",
       "\t<li>86</li>\n",
       "\t<li>111</li>\n",
       "\t<li>76</li>\n",
       "\t<li>86</li>\n",
       "\t<li>89</li>\n",
       "\t<li>106</li>\n",
       "\t<li>142</li>\n",
       "\t<li>66</li>\n",
       "\t<li>58</li>\n",
       "\t<li>123</li>\n",
       "\t<li>98</li>\n",
       "\t<li>90</li>\n",
       "\t<li>146</li>\n",
       "\t<li>123</li>\n",
       "\t<li>80</li>\n",
       "\t<li>52</li>\n",
       "\t<li>66</li>\n",
       "\t<li>88</li>\n",
       "\t<li>52</li>\n",
       "\t<li>137</li>\n",
       "\t<li>35</li>\n",
       "\t<li>88</li>\n",
       "\t<li>55</li>\n",
       "\t<li>80</li>\n",
       "\t<li>127</li>\n",
       "\t<li>65</li>\n",
       "\t<li>77</li>\n",
       "\t<li>79</li>\n",
       "\t<li>91</li>\n",
       "\t<li>87</li>\n",
       "\t<li>128</li>\n",
       "\t<li>56</li>\n",
       "\t<li>75</li>\n",
       "\t<li>110</li>\n",
       "\t<li>82</li>\n",
       "\t<li>106</li>\n",
       "\t<li>69</li>\n",
       "\t<li>110</li>\n",
       "\t<li>84</li>\n",
       "\t<li>78</li>\n",
       "\t<li>116</li>\n",
       "\t<li>80</li>\n",
       "\t<li>73</li>\n",
       "\t<li>47</li>\n",
       "\t<li>87</li>\n",
       "\t<li>74</li>\n",
       "\t<li>76</li>\n",
       "\t<li>58</li>\n",
       "\t<li>107</li>\n",
       "\t<li>88</li>\n",
       "\t<li>84</li>\n",
       "\t<li>73</li>\n",
       "\t<li>120</li>\n",
       "\t<li>118</li>\n",
       "\t<li>123</li>\n",
       "\t<li>67</li>\n",
       "\t<li>57</li>\n",
       "</ol>\n"
      ],
      "text/latex": [
       "\\begin{enumerate*}\n",
       "\\item 40\n",
       "\\item 65\n",
       "\\item 86\n",
       "\\item 86\n",
       "\\item 111\n",
       "\\item 76\n",
       "\\item 86\n",
       "\\item 89\n",
       "\\item 106\n",
       "\\item 142\n",
       "\\item 66\n",
       "\\item 58\n",
       "\\item 123\n",
       "\\item 98\n",
       "\\item 90\n",
       "\\item 146\n",
       "\\item 123\n",
       "\\item 80\n",
       "\\item 52\n",
       "\\item 66\n",
       "\\item 88\n",
       "\\item 52\n",
       "\\item 137\n",
       "\\item 35\n",
       "\\item 88\n",
       "\\item 55\n",
       "\\item 80\n",
       "\\item 127\n",
       "\\item 65\n",
       "\\item 77\n",
       "\\item 79\n",
       "\\item 91\n",
       "\\item 87\n",
       "\\item 128\n",
       "\\item 56\n",
       "\\item 75\n",
       "\\item 110\n",
       "\\item 82\n",
       "\\item 106\n",
       "\\item 69\n",
       "\\item 110\n",
       "\\item 84\n",
       "\\item 78\n",
       "\\item 116\n",
       "\\item 80\n",
       "\\item 73\n",
       "\\item 47\n",
       "\\item 87\n",
       "\\item 74\n",
       "\\item 76\n",
       "\\item 58\n",
       "\\item 107\n",
       "\\item 88\n",
       "\\item 84\n",
       "\\item 73\n",
       "\\item 120\n",
       "\\item 118\n",
       "\\item 123\n",
       "\\item 67\n",
       "\\item 57\n",
       "\\end{enumerate*}\n"
      ],
      "text/markdown": [
       "1. 40\n",
       "2. 65\n",
       "3. 86\n",
       "4. 86\n",
       "5. 111\n",
       "6. 76\n",
       "7. 86\n",
       "8. 89\n",
       "9. 106\n",
       "10. 142\n",
       "11. 66\n",
       "12. 58\n",
       "13. 123\n",
       "14. 98\n",
       "15. 90\n",
       "16. 146\n",
       "17. 123\n",
       "18. 80\n",
       "19. 52\n",
       "20. 66\n",
       "21. 88\n",
       "22. 52\n",
       "23. 137\n",
       "24. 35\n",
       "25. 88\n",
       "26. 55\n",
       "27. 80\n",
       "28. 127\n",
       "29. 65\n",
       "30. 77\n",
       "31. 79\n",
       "32. 91\n",
       "33. 87\n",
       "34. 128\n",
       "35. 56\n",
       "36. 75\n",
       "37. 110\n",
       "38. 82\n",
       "39. 106\n",
       "40. 69\n",
       "41. 110\n",
       "42. 84\n",
       "43. 78\n",
       "44. 116\n",
       "45. 80\n",
       "46. 73\n",
       "47. 47\n",
       "48. 87\n",
       "49. 74\n",
       "50. 76\n",
       "51. 58\n",
       "52. 107\n",
       "53. 88\n",
       "54. 84\n",
       "55. 73\n",
       "56. 120\n",
       "57. 118\n",
       "58. 123\n",
       "59. 67\n",
       "60. 57\n",
       "\n",
       "\n"
      ],
      "text/plain": [
       " [1]  40  65  86  86 111  76  86  89 106 142  66  58 123  98  90 146 123  80  52\n",
       "[20]  66  88  52 137  35  88  55  80 127  65  77  79  91  87 128  56  75 110  82\n",
       "[39] 106  69 110  84  78 116  80  73  47  87  74  76  58 107  88  84  73 120 118\n",
       "[58] 123  67  57"
      ]
     },
     "metadata": {},
     "output_type": "display_data"
    }
   ],
   "source": [
    "bile_su <- c(40, 65, 86, 86, 111, 76, 86, 89, 106,142,\n",
    "             66, 58, 123, 98, 90, 146, 123, 80, 52, 66,\n",
    "             88, 52, 137, 35, 88, 55, 80, 127, 65, 77, 79, \n",
    "             91, 87, 128, 56, 75, 110, 82, 106, 69, 110, \n",
    "             84, 78, 116, 80, 73, 47, 87, 74, 76, 58, 107, \n",
    "             88, 84, 73, 120, 118, 123, 67, 57)\n",
    "bile_su"
   ]
  },
  {
   "cell_type": "code",
   "execution_count": 3,
   "metadata": {},
   "outputs": [
    {
     "data": {
      "text/html": [
       "<dl class=dl-horizontal>\n",
       "\t<dt>0%</dt>\n",
       "\t\t<dd>35</dd>\n",
       "\t<dt>25%</dt>\n",
       "\t\t<dd>68.5</dd>\n",
       "\t<dt>50%</dt>\n",
       "\t\t<dd>84</dd>\n",
       "\t<dt>75%</dt>\n",
       "\t\t<dd>106.25</dd>\n",
       "\t<dt>100%</dt>\n",
       "\t\t<dd>146</dd>\n",
       "</dl>\n"
      ],
      "text/latex": [
       "\\begin{description*}\n",
       "\\item[0\\textbackslash{}\\%] 35\n",
       "\\item[25\\textbackslash{}\\%] 68.5\n",
       "\\item[50\\textbackslash{}\\%] 84\n",
       "\\item[75\\textbackslash{}\\%] 106.25\n",
       "\\item[100\\textbackslash{}\\%] 146\n",
       "\\end{description*}\n"
      ],
      "text/markdown": [
       "0%\n",
       ":   3525%\n",
       ":   68.550%\n",
       ":   8475%\n",
       ":   106.25100%\n",
       ":   146\n",
       "\n"
      ],
      "text/plain": [
       "    0%    25%    50%    75%   100% \n",
       " 35.00  68.50  84.00 106.25 146.00 "
      ]
     },
     "metadata": {},
     "output_type": "display_data"
    }
   ],
   "source": [
    "quantile(bile_su)"
   ]
  },
  {
   "cell_type": "code",
   "execution_count": 4,
   "metadata": {},
   "outputs": [
    {
     "data": {
      "image/png": "[encoded data removed]",
      "text/plain": [
       "plot without title"
      ]
     },
     "metadata": {},
     "output_type": "display_data"
    }
   ],
   "source": [
    "boxplot(bile_su, col = 'blue', main = NULL)"
   ]
  },
  {
   "cell_type": "code",
   "execution_count": 12,
   "metadata": {
    "collapsed": true
   },
   "outputs": [],
   "source": [
    "A_class <- c(80, 67, 90, 86, 94, 99, 54, 65, 83, 88, \n",
    "             91, 83, 78, 84, 94, 95, 68, 87, 85, 95)\n",
    "\n",
    "B_class <- c(75, 80, 90, 84, 91, 76, 95, 77, 91, 65, \n",
    "             85, 68, 78, 94, 89, 85, 78, 87, 66, 72)"
   ]
  },
  {
   "cell_type": "code",
   "execution_count": 18,
   "metadata": {},
   "outputs": [
    {
     "data": {
      "image/png": "[encoded data removed]",
      "text/plain": [
       "Plot with title \"B Class\""
      ]
     },
     "metadata": {},
     "output_type": "display_data"
    }
   ],
   "source": [
    "par(mfrow = c(1, 2))\n",
    "boxplot(A_class, col = 'yellow', main = 'A Class')\n",
    "boxplot(B_class, col = 'green', main = 'B Class')"
   ]
  },
  {
   "cell_type": "code",
   "execution_count": 19,
   "metadata": {},
   "outputs": [
    {
     "data": {
      "text/html": [
       "<dl class=dl-horizontal>\n",
       "\t<dt>0%</dt>\n",
       "\t\t<dd>54</dd>\n",
       "\t<dt>25%</dt>\n",
       "\t\t<dd>79.5</dd>\n",
       "\t<dt>50%</dt>\n",
       "\t\t<dd>85.5</dd>\n",
       "\t<dt>75%</dt>\n",
       "\t\t<dd>91.75</dd>\n",
       "\t<dt>100%</dt>\n",
       "\t\t<dd>99</dd>\n",
       "</dl>\n"
      ],
      "text/latex": [
       "\\begin{description*}\n",
       "\\item[0\\textbackslash{}\\%] 54\n",
       "\\item[25\\textbackslash{}\\%] 79.5\n",
       "\\item[50\\textbackslash{}\\%] 85.5\n",
       "\\item[75\\textbackslash{}\\%] 91.75\n",
       "\\item[100\\textbackslash{}\\%] 99\n",
       "\\end{description*}\n"
      ],
      "text/markdown": [
       "0%\n",
       ":   5425%\n",
       ":   79.550%\n",
       ":   85.575%\n",
       ":   91.75100%\n",
       ":   99\n",
       "\n"
      ],
      "text/plain": [
       "   0%   25%   50%   75%  100% \n",
       "54.00 79.50 85.50 91.75 99.00 "
      ]
     },
     "metadata": {},
     "output_type": "display_data"
    },
    {
     "data": {
      "text/html": [
       "<dl class=dl-horizontal>\n",
       "\t<dt>0%</dt>\n",
       "\t\t<dd>65</dd>\n",
       "\t<dt>25%</dt>\n",
       "\t\t<dd>75.75</dd>\n",
       "\t<dt>50%</dt>\n",
       "\t\t<dd>82</dd>\n",
       "\t<dt>75%</dt>\n",
       "\t\t<dd>89.25</dd>\n",
       "\t<dt>100%</dt>\n",
       "\t\t<dd>95</dd>\n",
       "</dl>\n"
      ],
      "text/latex": [
       "\\begin{description*}\n",
       "\\item[0\\textbackslash{}\\%] 65\n",
       "\\item[25\\textbackslash{}\\%] 75.75\n",
       "\\item[50\\textbackslash{}\\%] 82\n",
       "\\item[75\\textbackslash{}\\%] 89.25\n",
       "\\item[100\\textbackslash{}\\%] 95\n",
       "\\end{description*}\n"
      ],
      "text/markdown": [
       "0%\n",
       ":   6525%\n",
       ":   75.7550%\n",
       ":   8275%\n",
       ":   89.25100%\n",
       ":   95\n",
       "\n"
      ],
      "text/plain": [
       "   0%   25%   50%   75%  100% \n",
       "65.00 75.75 82.00 89.25 95.00 "
      ]
     },
     "metadata": {},
     "output_type": "display_data"
    }
   ],
   "source": [
    "quantile(A_class)\n",
    "quantile(B_class)"
   ]
  }
 ],
 "metadata": {
  "kernelspec": {
   "display_name": "R",
   "language": "R",
   "name": "ir"
  },
  "language_info": {
   "codemirror_mode": "r",
   "file_extension": ".r",
   "mimetype": "text/x-r-source",
   "name": "R",
   "pygments_lexer": "r",
   "version": "3.4.2"
  }
 },
 "nbformat": 4,
 "nbformat_minor": 2
}
