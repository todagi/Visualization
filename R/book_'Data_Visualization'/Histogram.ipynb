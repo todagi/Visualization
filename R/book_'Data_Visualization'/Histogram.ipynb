{
 "cells": [
  {
   "cell_type": "markdown",
   "metadata": {},
   "source": [
    "## Histogram(히스토그램)"
   ]
  },
  {
   "cell_type": "markdown",
   "metadata": {},
   "source": [
    "#### 연속형 변수를 가진 자료를 계급별로 나누고 각 계급의 빈도인 도수를 파악한 후 가로축은 계급, 세로축은 상대도수로 하여 막대그래프로 나타낸 것"
   ]
  },
  {
   "cell_type": "markdown",
   "metadata": {
    "collapsed": true
   },
   "source": [
    "#### 담즙(bile)의 과포화(supersaturation)비율"
   ]
  },
  {
   "cell_type": "code",
   "execution_count": 1,
   "metadata": {},
   "outputs": [
    {
     "data": {
      "text/html": [
       "<ol class=list-inline>\n",
       "\t<li>40</li>\n",
       "\t<li>65</li>\n",
       "\t<li>86</li>\n",
       "\t<li>86</li>\n",
       "\t<li>111</li>\n",
       "\t<li>76</li>\n",
       "\t<li>86</li>\n",
       "\t<li>89</li>\n",
       "\t<li>106</li>\n",
       "\t<li>142</li>\n",
       "\t<li>66</li>\n",
       "\t<li>58</li>\n",
       "\t<li>123</li>\n",
       "\t<li>98</li>\n",
       "\t<li>90</li>\n",
       "\t<li>146</li>\n",
       "\t<li>123</li>\n",
       "\t<li>80</li>\n",
       "\t<li>52</li>\n",
       "\t<li>66</li>\n",
       "\t<li>88</li>\n",
       "\t<li>52</li>\n",
       "\t<li>137</li>\n",
       "\t<li>35</li>\n",
       "\t<li>88</li>\n",
       "\t<li>55</li>\n",
       "\t<li>80</li>\n",
       "\t<li>127</li>\n",
       "\t<li>65</li>\n",
       "\t<li>77</li>\n",
       "\t<li>79</li>\n",
       "\t<li>91</li>\n",
       "\t<li>87</li>\n",
       "\t<li>128</li>\n",
       "\t<li>56</li>\n",
       "\t<li>75</li>\n",
       "\t<li>110</li>\n",
       "\t<li>82</li>\n",
       "\t<li>106</li>\n",
       "\t<li>69</li>\n",
       "\t<li>110</li>\n",
       "\t<li>84</li>\n",
       "\t<li>78</li>\n",
       "\t<li>116</li>\n",
       "\t<li>80</li>\n",
       "\t<li>73</li>\n",
       "\t<li>47</li>\n",
       "\t<li>87</li>\n",
       "\t<li>74</li>\n",
       "\t<li>76</li>\n",
       "\t<li>58</li>\n",
       "\t<li>107</li>\n",
       "\t<li>88</li>\n",
       "\t<li>84</li>\n",
       "\t<li>73</li>\n",
       "\t<li>120</li>\n",
       "\t<li>118</li>\n",
       "\t<li>123</li>\n",
       "\t<li>67</li>\n",
       "\t<li>57</li>\n",
       "</ol>\n"
      ],
      "text/latex": [
       "\\begin{enumerate*}\n",
       "\\item 40\n",
       "\\item 65\n",
       "\\item 86\n",
       "\\item 86\n",
       "\\item 111\n",
       "\\item 76\n",
       "\\item 86\n",
       "\\item 89\n",
       "\\item 106\n",
       "\\item 142\n",
       "\\item 66\n",
       "\\item 58\n",
       "\\item 123\n",
       "\\item 98\n",
       "\\item 90\n",
       "\\item 146\n",
       "\\item 123\n",
       "\\item 80\n",
       "\\item 52\n",
       "\\item 66\n",
       "\\item 88\n",
       "\\item 52\n",
       "\\item 137\n",
       "\\item 35\n",
       "\\item 88\n",
       "\\item 55\n",
       "\\item 80\n",
       "\\item 127\n",
       "\\item 65\n",
       "\\item 77\n",
       "\\item 79\n",
       "\\item 91\n",
       "\\item 87\n",
       "\\item 128\n",
       "\\item 56\n",
       "\\item 75\n",
       "\\item 110\n",
       "\\item 82\n",
       "\\item 106\n",
       "\\item 69\n",
       "\\item 110\n",
       "\\item 84\n",
       "\\item 78\n",
       "\\item 116\n",
       "\\item 80\n",
       "\\item 73\n",
       "\\item 47\n",
       "\\item 87\n",
       "\\item 74\n",
       "\\item 76\n",
       "\\item 58\n",
       "\\item 107\n",
       "\\item 88\n",
       "\\item 84\n",
       "\\item 73\n",
       "\\item 120\n",
       "\\item 118\n",
       "\\item 123\n",
       "\\item 67\n",
       "\\item 57\n",
       "\\end{enumerate*}\n"
      ],
      "text/markdown": [
       "1. 40\n",
       "2. 65\n",
       "3. 86\n",
       "4. 86\n",
       "5. 111\n",
       "6. 76\n",
       "7. 86\n",
       "8. 89\n",
       "9. 106\n",
       "10. 142\n",
       "11. 66\n",
       "12. 58\n",
       "13. 123\n",
       "14. 98\n",
       "15. 90\n",
       "16. 146\n",
       "17. 123\n",
       "18. 80\n",
       "19. 52\n",
       "20. 66\n",
       "21. 88\n",
       "22. 52\n",
       "23. 137\n",
       "24. 35\n",
       "25. 88\n",
       "26. 55\n",
       "27. 80\n",
       "28. 127\n",
       "29. 65\n",
       "30. 77\n",
       "31. 79\n",
       "32. 91\n",
       "33. 87\n",
       "34. 128\n",
       "35. 56\n",
       "36. 75\n",
       "37. 110\n",
       "38. 82\n",
       "39. 106\n",
       "40. 69\n",
       "41. 110\n",
       "42. 84\n",
       "43. 78\n",
       "44. 116\n",
       "45. 80\n",
       "46. 73\n",
       "47. 47\n",
       "48. 87\n",
       "49. 74\n",
       "50. 76\n",
       "51. 58\n",
       "52. 107\n",
       "53. 88\n",
       "54. 84\n",
       "55. 73\n",
       "56. 120\n",
       "57. 118\n",
       "58. 123\n",
       "59. 67\n",
       "60. 57\n",
       "\n",
       "\n"
      ],
      "text/plain": [
       " [1]  40  65  86  86 111  76  86  89 106 142  66  58 123  98  90 146 123  80  52\n",
       "[20]  66  88  52 137  35  88  55  80 127  65  77  79  91  87 128  56  75 110  82\n",
       "[39] 106  69 110  84  78 116  80  73  47  87  74  76  58 107  88  84  73 120 118\n",
       "[58] 123  67  57"
      ]
     },
     "metadata": {},
     "output_type": "display_data"
    }
   ],
   "source": [
    "bile_su <- c(40, 65, 86, 86, 111, 76, 86, 89, 106,142,\n",
    "             66, 58, 123, 98, 90, 146, 123, 80, 52, 66,\n",
    "             88, 52, 137, 35, 88, 55, 80, 127, 65, 77, 79, \n",
    "             91, 87, 128, 56, 75, 110, 82, 106, 69, 110, \n",
    "             84, 78, 116, 80, 73, 47, 87, 74, 76, 58, 107, \n",
    "             88, 84, 73, 120, 118, 123, 67, 57)\n",
    "bile_su"
   ]
  },
  {
   "cell_type": "code",
   "execution_count": 2,
   "metadata": {},
   "outputs": [
    {
     "name": "stdout",
     "output_type": "stream",
     "text": [
      " num [1:60] 40 65 86 86 111 76 86 89 106 142 ...\n"
     ]
    }
   ],
   "source": [
    "str(bile_su)"
   ]
  },
  {
   "cell_type": "code",
   "execution_count": 3,
   "metadata": {},
   "outputs": [
    {
     "data": {
      "text/html": [
       "60"
      ],
      "text/latex": [
       "60"
      ],
      "text/markdown": [
       "60"
      ],
      "text/plain": [
       "[1] 60"
      ]
     },
     "metadata": {},
     "output_type": "display_data"
    }
   ],
   "source": [
    "length(bile_su)"
   ]
  },
  {
   "cell_type": "code",
   "execution_count": 4,
   "metadata": {},
   "outputs": [
    {
     "data": {
      "text/html": [
       "<ol class=list-inline>\n",
       "\t<li>35</li>\n",
       "\t<li>40</li>\n",
       "\t<li>47</li>\n",
       "\t<li>52</li>\n",
       "\t<li>52</li>\n",
       "\t<li>55</li>\n",
       "\t<li>56</li>\n",
       "\t<li>57</li>\n",
       "\t<li>58</li>\n",
       "\t<li>58</li>\n",
       "\t<li>65</li>\n",
       "\t<li>65</li>\n",
       "\t<li>66</li>\n",
       "\t<li>66</li>\n",
       "\t<li>67</li>\n",
       "\t<li>69</li>\n",
       "\t<li>73</li>\n",
       "\t<li>73</li>\n",
       "\t<li>74</li>\n",
       "\t<li>75</li>\n",
       "\t<li>76</li>\n",
       "\t<li>76</li>\n",
       "\t<li>77</li>\n",
       "\t<li>78</li>\n",
       "\t<li>79</li>\n",
       "\t<li>80</li>\n",
       "\t<li>80</li>\n",
       "\t<li>80</li>\n",
       "\t<li>82</li>\n",
       "\t<li>84</li>\n",
       "\t<li>84</li>\n",
       "\t<li>86</li>\n",
       "\t<li>86</li>\n",
       "\t<li>86</li>\n",
       "\t<li>87</li>\n",
       "\t<li>87</li>\n",
       "\t<li>88</li>\n",
       "\t<li>88</li>\n",
       "\t<li>88</li>\n",
       "\t<li>89</li>\n",
       "\t<li>90</li>\n",
       "\t<li>91</li>\n",
       "\t<li>98</li>\n",
       "\t<li>106</li>\n",
       "\t<li>106</li>\n",
       "\t<li>107</li>\n",
       "\t<li>110</li>\n",
       "\t<li>110</li>\n",
       "\t<li>111</li>\n",
       "\t<li>116</li>\n",
       "\t<li>118</li>\n",
       "\t<li>120</li>\n",
       "\t<li>123</li>\n",
       "\t<li>123</li>\n",
       "\t<li>123</li>\n",
       "\t<li>127</li>\n",
       "\t<li>128</li>\n",
       "\t<li>137</li>\n",
       "\t<li>142</li>\n",
       "\t<li>146</li>\n",
       "</ol>\n"
      ],
      "text/latex": [
       "\\begin{enumerate*}\n",
       "\\item 35\n",
       "\\item 40\n",
       "\\item 47\n",
       "\\item 52\n",
       "\\item 52\n",
       "\\item 55\n",
       "\\item 56\n",
       "\\item 57\n",
       "\\item 58\n",
       "\\item 58\n",
       "\\item 65\n",
       "\\item 65\n",
       "\\item 66\n",
       "\\item 66\n",
       "\\item 67\n",
       "\\item 69\n",
       "\\item 73\n",
       "\\item 73\n",
       "\\item 74\n",
       "\\item 75\n",
       "\\item 76\n",
       "\\item 76\n",
       "\\item 77\n",
       "\\item 78\n",
       "\\item 79\n",
       "\\item 80\n",
       "\\item 80\n",
       "\\item 80\n",
       "\\item 82\n",
       "\\item 84\n",
       "\\item 84\n",
       "\\item 86\n",
       "\\item 86\n",
       "\\item 86\n",
       "\\item 87\n",
       "\\item 87\n",
       "\\item 88\n",
       "\\item 88\n",
       "\\item 88\n",
       "\\item 89\n",
       "\\item 90\n",
       "\\item 91\n",
       "\\item 98\n",
       "\\item 106\n",
       "\\item 106\n",
       "\\item 107\n",
       "\\item 110\n",
       "\\item 110\n",
       "\\item 111\n",
       "\\item 116\n",
       "\\item 118\n",
       "\\item 120\n",
       "\\item 123\n",
       "\\item 123\n",
       "\\item 123\n",
       "\\item 127\n",
       "\\item 128\n",
       "\\item 137\n",
       "\\item 142\n",
       "\\item 146\n",
       "\\end{enumerate*}\n"
      ],
      "text/markdown": [
       "1. 35\n",
       "2. 40\n",
       "3. 47\n",
       "4. 52\n",
       "5. 52\n",
       "6. 55\n",
       "7. 56\n",
       "8. 57\n",
       "9. 58\n",
       "10. 58\n",
       "11. 65\n",
       "12. 65\n",
       "13. 66\n",
       "14. 66\n",
       "15. 67\n",
       "16. 69\n",
       "17. 73\n",
       "18. 73\n",
       "19. 74\n",
       "20. 75\n",
       "21. 76\n",
       "22. 76\n",
       "23. 77\n",
       "24. 78\n",
       "25. 79\n",
       "26. 80\n",
       "27. 80\n",
       "28. 80\n",
       "29. 82\n",
       "30. 84\n",
       "31. 84\n",
       "32. 86\n",
       "33. 86\n",
       "34. 86\n",
       "35. 87\n",
       "36. 87\n",
       "37. 88\n",
       "38. 88\n",
       "39. 88\n",
       "40. 89\n",
       "41. 90\n",
       "42. 91\n",
       "43. 98\n",
       "44. 106\n",
       "45. 106\n",
       "46. 107\n",
       "47. 110\n",
       "48. 110\n",
       "49. 111\n",
       "50. 116\n",
       "51. 118\n",
       "52. 120\n",
       "53. 123\n",
       "54. 123\n",
       "55. 123\n",
       "56. 127\n",
       "57. 128\n",
       "58. 137\n",
       "59. 142\n",
       "60. 146\n",
       "\n",
       "\n"
      ],
      "text/plain": [
       " [1]  35  40  47  52  52  55  56  57  58  58  65  65  66  66  67  69  73  73  74\n",
       "[20]  75  76  76  77  78  79  80  80  80  82  84  84  86  86  86  87  87  88  88\n",
       "[39]  88  89  90  91  98 106 106 107 110 110 111 116 118 120 123 123 123 127 128\n",
       "[58] 137 142 146"
      ]
     },
     "metadata": {},
     "output_type": "display_data"
    }
   ],
   "source": [
    "sort(bile_su)"
   ]
  },
  {
   "cell_type": "code",
   "execution_count": 5,
   "metadata": {},
   "outputs": [
    {
     "data": {
      "text/html": [
       "<ol class=list-inline>\n",
       "\t<li>146</li>\n",
       "\t<li>142</li>\n",
       "\t<li>137</li>\n",
       "\t<li>128</li>\n",
       "\t<li>127</li>\n",
       "\t<li>123</li>\n",
       "\t<li>123</li>\n",
       "\t<li>123</li>\n",
       "\t<li>120</li>\n",
       "\t<li>118</li>\n",
       "\t<li>116</li>\n",
       "\t<li>111</li>\n",
       "\t<li>110</li>\n",
       "\t<li>110</li>\n",
       "\t<li>107</li>\n",
       "\t<li>106</li>\n",
       "\t<li>106</li>\n",
       "\t<li>98</li>\n",
       "\t<li>91</li>\n",
       "\t<li>90</li>\n",
       "\t<li>89</li>\n",
       "\t<li>88</li>\n",
       "\t<li>88</li>\n",
       "\t<li>88</li>\n",
       "\t<li>87</li>\n",
       "\t<li>87</li>\n",
       "\t<li>86</li>\n",
       "\t<li>86</li>\n",
       "\t<li>86</li>\n",
       "\t<li>84</li>\n",
       "\t<li>84</li>\n",
       "\t<li>82</li>\n",
       "\t<li>80</li>\n",
       "\t<li>80</li>\n",
       "\t<li>80</li>\n",
       "\t<li>79</li>\n",
       "\t<li>78</li>\n",
       "\t<li>77</li>\n",
       "\t<li>76</li>\n",
       "\t<li>76</li>\n",
       "\t<li>75</li>\n",
       "\t<li>74</li>\n",
       "\t<li>73</li>\n",
       "\t<li>73</li>\n",
       "\t<li>69</li>\n",
       "\t<li>67</li>\n",
       "\t<li>66</li>\n",
       "\t<li>66</li>\n",
       "\t<li>65</li>\n",
       "\t<li>65</li>\n",
       "\t<li>58</li>\n",
       "\t<li>58</li>\n",
       "\t<li>57</li>\n",
       "\t<li>56</li>\n",
       "\t<li>55</li>\n",
       "\t<li>52</li>\n",
       "\t<li>52</li>\n",
       "\t<li>47</li>\n",
       "\t<li>40</li>\n",
       "\t<li>35</li>\n",
       "</ol>\n"
      ],
      "text/latex": [
       "\\begin{enumerate*}\n",
       "\\item 146\n",
       "\\item 142\n",
       "\\item 137\n",
       "\\item 128\n",
       "\\item 127\n",
       "\\item 123\n",
       "\\item 123\n",
       "\\item 123\n",
       "\\item 120\n",
       "\\item 118\n",
       "\\item 116\n",
       "\\item 111\n",
       "\\item 110\n",
       "\\item 110\n",
       "\\item 107\n",
       "\\item 106\n",
       "\\item 106\n",
       "\\item 98\n",
       "\\item 91\n",
       "\\item 90\n",
       "\\item 89\n",
       "\\item 88\n",
       "\\item 88\n",
       "\\item 88\n",
       "\\item 87\n",
       "\\item 87\n",
       "\\item 86\n",
       "\\item 86\n",
       "\\item 86\n",
       "\\item 84\n",
       "\\item 84\n",
       "\\item 82\n",
       "\\item 80\n",
       "\\item 80\n",
       "\\item 80\n",
       "\\item 79\n",
       "\\item 78\n",
       "\\item 77\n",
       "\\item 76\n",
       "\\item 76\n",
       "\\item 75\n",
       "\\item 74\n",
       "\\item 73\n",
       "\\item 73\n",
       "\\item 69\n",
       "\\item 67\n",
       "\\item 66\n",
       "\\item 66\n",
       "\\item 65\n",
       "\\item 65\n",
       "\\item 58\n",
       "\\item 58\n",
       "\\item 57\n",
       "\\item 56\n",
       "\\item 55\n",
       "\\item 52\n",
       "\\item 52\n",
       "\\item 47\n",
       "\\item 40\n",
       "\\item 35\n",
       "\\end{enumerate*}\n"
      ],
      "text/markdown": [
       "1. 146\n",
       "2. 142\n",
       "3. 137\n",
       "4. 128\n",
       "5. 127\n",
       "6. 123\n",
       "7. 123\n",
       "8. 123\n",
       "9. 120\n",
       "10. 118\n",
       "11. 116\n",
       "12. 111\n",
       "13. 110\n",
       "14. 110\n",
       "15. 107\n",
       "16. 106\n",
       "17. 106\n",
       "18. 98\n",
       "19. 91\n",
       "20. 90\n",
       "21. 89\n",
       "22. 88\n",
       "23. 88\n",
       "24. 88\n",
       "25. 87\n",
       "26. 87\n",
       "27. 86\n",
       "28. 86\n",
       "29. 86\n",
       "30. 84\n",
       "31. 84\n",
       "32. 82\n",
       "33. 80\n",
       "34. 80\n",
       "35. 80\n",
       "36. 79\n",
       "37. 78\n",
       "38. 77\n",
       "39. 76\n",
       "40. 76\n",
       "41. 75\n",
       "42. 74\n",
       "43. 73\n",
       "44. 73\n",
       "45. 69\n",
       "46. 67\n",
       "47. 66\n",
       "48. 66\n",
       "49. 65\n",
       "50. 65\n",
       "51. 58\n",
       "52. 58\n",
       "53. 57\n",
       "54. 56\n",
       "55. 55\n",
       "56. 52\n",
       "57. 52\n",
       "58. 47\n",
       "59. 40\n",
       "60. 35\n",
       "\n",
       "\n"
      ],
      "text/plain": [
       " [1] 146 142 137 128 127 123 123 123 120 118 116 111 110 110 107 106 106  98  91\n",
       "[20]  90  89  88  88  88  87  87  86  86  86  84  84  82  80  80  80  79  78  77\n",
       "[39]  76  76  75  74  73  73  69  67  66  66  65  65  58  58  57  56  55  52  52\n",
       "[58]  47  40  35"
      ]
     },
     "metadata": {},
     "output_type": "display_data"
    }
   ],
   "source": [
    "sort(bile_su, decreasing = T)"
   ]
  },
  {
   "cell_type": "code",
   "execution_count": 6,
   "metadata": {
    "collapsed": true
   },
   "outputs": [],
   "source": [
    "par(mfrow = c(2, 1))"
   ]
  },
  {
   "cell_type": "code",
   "execution_count": 9,
   "metadata": {},
   "outputs": [
    {
     "data": {
      "image/png": "[encoded data removed]",
      "text/plain": [
       "plot without title"
      ]
     },
     "metadata": {},
     "output_type": "display_data"
    }
   ],
   "source": [
    "hist(bile_su, main = NULL)"
   ]
  },
  {
   "cell_type": "markdown",
   "metadata": {},
   "source": [
    "#### 간격조절 : 기본값 Sturge - log2(n) + 1 / breaks = n "
   ]
  },
  {
   "cell_type": "code",
   "execution_count": 15,
   "metadata": {},
   "outputs": [
    {
     "data": {
      "image/png": "[encoded data removed]",
      "text/plain": [
       "plot without title"
      ]
     },
     "metadata": {},
     "output_type": "display_data"
    }
   ],
   "source": [
    "hist(bile_su, breaks = 10, main = NULL)"
   ]
  },
  {
   "cell_type": "markdown",
   "metadata": {},
   "source": [
    "#### 빈도수(frequency)가 아닌 백분율(%, density)를 표시 : probability = T  / freq = F"
   ]
  },
  {
   "cell_type": "code",
   "execution_count": 13,
   "metadata": {},
   "outputs": [
    {
     "data": {
      "image/png": "[encoded data removed]",
      "text/plain": [
       "plot without title"
      ]
     },
     "metadata": {},
     "output_type": "display_data"
    }
   ],
   "source": [
    "hist(bile_su, probability = T, main = NULL)"
   ]
  },
  {
   "cell_type": "code",
   "execution_count": 16,
   "metadata": {},
   "outputs": [
    {
     "data": {
      "image/png": "[encoded data removed]",
      "text/plain": [
       "plot without title"
      ]
     },
     "metadata": {},
     "output_type": "display_data"
    }
   ],
   "source": [
    "hist(bile_su, freq = F, main = NULL)"
   ]
  },
  {
   "cell_type": "code",
   "execution_count": null,
   "metadata": {
    "collapsed": true
   },
   "outputs": [],
   "source": []
  }
 ],
 "metadata": {
  "kernelspec": {
   "display_name": "R",
   "language": "R",
   "name": "ir"
  },
  "language_info": {
   "codemirror_mode": "r",
   "file_extension": ".r",
   "mimetype": "text/x-r-source",
   "name": "R",
   "pygments_lexer": "r",
   "version": "3.4.2"
  }
 },
 "nbformat": 4,
 "nbformat_minor": 2
}
