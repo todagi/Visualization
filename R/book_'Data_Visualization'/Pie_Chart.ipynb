{
 "cells": [
  {
   "cell_type": "markdown",
   "metadata": {},
   "source": [
    "## Pie Chart(원그래프)"
   ]
  },
  {
   "cell_type": "markdown",
   "metadata": {},
   "source": [
    "#### 각 항목이 차지하는 비율 파익"
   ]
  },
  {
   "cell_type": "code",
   "execution_count": 5,
   "metadata": {},
   "outputs": [
    {
     "data": {
      "text/html": [
       "<ol class=list-inline>\n",
       "\t<li>'A'</li>\n",
       "\t<li>'B'</li>\n",
       "\t<li>'B'</li>\n",
       "\t<li>'A'</li>\n",
       "\t<li>'A'</li>\n",
       "\t<li>'O'</li>\n",
       "\t<li>'A'</li>\n",
       "\t<li>'AB'</li>\n",
       "\t<li>'O'</li>\n",
       "\t<li>'O'</li>\n",
       "\t<li>'B'</li>\n",
       "\t<li>'A'</li>\n",
       "\t<li>'A'</li>\n",
       "\t<li>'O'</li>\n",
       "\t<li>'A'</li>\n",
       "\t<li>'AB'</li>\n",
       "\t<li>'O'</li>\n",
       "\t<li>'B'</li>\n",
       "\t<li>'B'</li>\n",
       "\t<li>'O'</li>\n",
       "\t<li>'A'</li>\n",
       "\t<li>'B'</li>\n",
       "\t<li>'B'</li>\n",
       "\t<li>'A'</li>\n",
       "\t<li>'A'</li>\n",
       "\t<li>'O'</li>\n",
       "\t<li>'A'</li>\n",
       "\t<li>'AB'</li>\n",
       "\t<li>'O'</li>\n",
       "\t<li>'O'</li>\n",
       "\t<li>'AB'</li>\n",
       "\t<li>'O'</li>\n",
       "\t<li>'O'</li>\n",
       "\t<li>'A'</li>\n",
       "\t<li>'A'</li>\n",
       "\t<li>'O'</li>\n",
       "\t<li>'A'</li>\n",
       "\t<li>'AB'</li>\n",
       "\t<li>'O'</li>\n",
       "\t<li>'O'</li>\n",
       "\t<li>'A'</li>\n",
       "\t<li>'B'</li>\n",
       "\t<li>'B'</li>\n",
       "\t<li>'O'</li>\n",
       "\t<li>'O'</li>\n",
       "\t<li>'O'</li>\n",
       "\t<li>'A'</li>\n",
       "\t<li>'AB'</li>\n",
       "\t<li>'O'</li>\n",
       "\t<li>'O'</li>\n",
       "\t<li>'O'</li>\n",
       "\t<li>'B'</li>\n",
       "\t<li>'B'</li>\n",
       "\t<li>'A'</li>\n",
       "\t<li>'O'</li>\n",
       "\t<li>'O'</li>\n",
       "\t<li>'A'</li>\n",
       "\t<li>'B'</li>\n",
       "\t<li>'A'</li>\n",
       "\t<li>'AB'</li>\n",
       "\t<li>'B'</li>\n",
       "\t<li>'B'</li>\n",
       "\t<li>'B'</li>\n",
       "\t<li>'A'</li>\n",
       "\t<li>'A'</li>\n",
       "\t<li>'O'</li>\n",
       "\t<li>'A'</li>\n",
       "\t<li>'A'</li>\n",
       "\t<li>'B'</li>\n",
       "\t<li>'B'</li>\n",
       "\t<li>'O'</li>\n",
       "\t<li>'B'</li>\n",
       "\t<li>'O'</li>\n",
       "\t<li>'B'</li>\n",
       "\t<li>'A'</li>\n",
       "\t<li>'AB'</li>\n",
       "\t<li>'A'</li>\n",
       "\t<li>'AB'</li>\n",
       "\t<li>'O'</li>\n",
       "\t<li>'A'</li>\n",
       "\t<li>'A'</li>\n",
       "\t<li>'B'</li>\n",
       "\t<li>'AB'</li>\n",
       "\t<li>'AB'</li>\n",
       "\t<li>'A'</li>\n",
       "\t<li>'O'</li>\n",
       "\t<li>'A'</li>\n",
       "\t<li>'AB'</li>\n",
       "\t<li>'B'</li>\n",
       "\t<li>'A'</li>\n",
       "\t<li>'B'</li>\n",
       "\t<li>'B'</li>\n",
       "\t<li>'A'</li>\n",
       "\t<li>'A'</li>\n",
       "\t<li>'O'</li>\n",
       "\t<li>'A'</li>\n",
       "\t<li>'AB'</li>\n",
       "\t<li>'O'</li>\n",
       "\t<li>'O'</li>\n",
       "\t<li>'A'</li>\n",
       "</ol>\n"
      ],
      "text/latex": [
       "\\begin{enumerate*}\n",
       "\\item 'A'\n",
       "\\item 'B'\n",
       "\\item 'B'\n",
       "\\item 'A'\n",
       "\\item 'A'\n",
       "\\item 'O'\n",
       "\\item 'A'\n",
       "\\item 'AB'\n",
       "\\item 'O'\n",
       "\\item 'O'\n",
       "\\item 'B'\n",
       "\\item 'A'\n",
       "\\item 'A'\n",
       "\\item 'O'\n",
       "\\item 'A'\n",
       "\\item 'AB'\n",
       "\\item 'O'\n",
       "\\item 'B'\n",
       "\\item 'B'\n",
       "\\item 'O'\n",
       "\\item 'A'\n",
       "\\item 'B'\n",
       "\\item 'B'\n",
       "\\item 'A'\n",
       "\\item 'A'\n",
       "\\item 'O'\n",
       "\\item 'A'\n",
       "\\item 'AB'\n",
       "\\item 'O'\n",
       "\\item 'O'\n",
       "\\item 'AB'\n",
       "\\item 'O'\n",
       "\\item 'O'\n",
       "\\item 'A'\n",
       "\\item 'A'\n",
       "\\item 'O'\n",
       "\\item 'A'\n",
       "\\item 'AB'\n",
       "\\item 'O'\n",
       "\\item 'O'\n",
       "\\item 'A'\n",
       "\\item 'B'\n",
       "\\item 'B'\n",
       "\\item 'O'\n",
       "\\item 'O'\n",
       "\\item 'O'\n",
       "\\item 'A'\n",
       "\\item 'AB'\n",
       "\\item 'O'\n",
       "\\item 'O'\n",
       "\\item 'O'\n",
       "\\item 'B'\n",
       "\\item 'B'\n",
       "\\item 'A'\n",
       "\\item 'O'\n",
       "\\item 'O'\n",
       "\\item 'A'\n",
       "\\item 'B'\n",
       "\\item 'A'\n",
       "\\item 'AB'\n",
       "\\item 'B'\n",
       "\\item 'B'\n",
       "\\item 'B'\n",
       "\\item 'A'\n",
       "\\item 'A'\n",
       "\\item 'O'\n",
       "\\item 'A'\n",
       "\\item 'A'\n",
       "\\item 'B'\n",
       "\\item 'B'\n",
       "\\item 'O'\n",
       "\\item 'B'\n",
       "\\item 'O'\n",
       "\\item 'B'\n",
       "\\item 'A'\n",
       "\\item 'AB'\n",
       "\\item 'A'\n",
       "\\item 'AB'\n",
       "\\item 'O'\n",
       "\\item 'A'\n",
       "\\item 'A'\n",
       "\\item 'B'\n",
       "\\item 'AB'\n",
       "\\item 'AB'\n",
       "\\item 'A'\n",
       "\\item 'O'\n",
       "\\item 'A'\n",
       "\\item 'AB'\n",
       "\\item 'B'\n",
       "\\item 'A'\n",
       "\\item 'B'\n",
       "\\item 'B'\n",
       "\\item 'A'\n",
       "\\item 'A'\n",
       "\\item 'O'\n",
       "\\item 'A'\n",
       "\\item 'AB'\n",
       "\\item 'O'\n",
       "\\item 'O'\n",
       "\\item 'A'\n",
       "\\end{enumerate*}\n"
      ],
      "text/markdown": [
       "1. 'A'\n",
       "2. 'B'\n",
       "3. 'B'\n",
       "4. 'A'\n",
       "5. 'A'\n",
       "6. 'O'\n",
       "7. 'A'\n",
       "8. 'AB'\n",
       "9. 'O'\n",
       "10. 'O'\n",
       "11. 'B'\n",
       "12. 'A'\n",
       "13. 'A'\n",
       "14. 'O'\n",
       "15. 'A'\n",
       "16. 'AB'\n",
       "17. 'O'\n",
       "18. 'B'\n",
       "19. 'B'\n",
       "20. 'O'\n",
       "21. 'A'\n",
       "22. 'B'\n",
       "23. 'B'\n",
       "24. 'A'\n",
       "25. 'A'\n",
       "26. 'O'\n",
       "27. 'A'\n",
       "28. 'AB'\n",
       "29. 'O'\n",
       "30. 'O'\n",
       "31. 'AB'\n",
       "32. 'O'\n",
       "33. 'O'\n",
       "34. 'A'\n",
       "35. 'A'\n",
       "36. 'O'\n",
       "37. 'A'\n",
       "38. 'AB'\n",
       "39. 'O'\n",
       "40. 'O'\n",
       "41. 'A'\n",
       "42. 'B'\n",
       "43. 'B'\n",
       "44. 'O'\n",
       "45. 'O'\n",
       "46. 'O'\n",
       "47. 'A'\n",
       "48. 'AB'\n",
       "49. 'O'\n",
       "50. 'O'\n",
       "51. 'O'\n",
       "52. 'B'\n",
       "53. 'B'\n",
       "54. 'A'\n",
       "55. 'O'\n",
       "56. 'O'\n",
       "57. 'A'\n",
       "58. 'B'\n",
       "59. 'A'\n",
       "60. 'AB'\n",
       "61. 'B'\n",
       "62. 'B'\n",
       "63. 'B'\n",
       "64. 'A'\n",
       "65. 'A'\n",
       "66. 'O'\n",
       "67. 'A'\n",
       "68. 'A'\n",
       "69. 'B'\n",
       "70. 'B'\n",
       "71. 'O'\n",
       "72. 'B'\n",
       "73. 'O'\n",
       "74. 'B'\n",
       "75. 'A'\n",
       "76. 'AB'\n",
       "77. 'A'\n",
       "78. 'AB'\n",
       "79. 'O'\n",
       "80. 'A'\n",
       "81. 'A'\n",
       "82. 'B'\n",
       "83. 'AB'\n",
       "84. 'AB'\n",
       "85. 'A'\n",
       "86. 'O'\n",
       "87. 'A'\n",
       "88. 'AB'\n",
       "89. 'B'\n",
       "90. 'A'\n",
       "91. 'B'\n",
       "92. 'B'\n",
       "93. 'A'\n",
       "94. 'A'\n",
       "95. 'O'\n",
       "96. 'A'\n",
       "97. 'AB'\n",
       "98. 'O'\n",
       "99. 'O'\n",
       "100. 'A'\n",
       "\n",
       "\n"
      ],
      "text/plain": [
       "  [1] \"A\"  \"B\"  \"B\"  \"A\"  \"A\"  \"O\"  \"A\"  \"AB\" \"O\"  \"O\"  \"B\"  \"A\"  \"A\"  \"O\"  \"A\" \n",
       " [16] \"AB\" \"O\"  \"B\"  \"B\"  \"O\"  \"A\"  \"B\"  \"B\"  \"A\"  \"A\"  \"O\"  \"A\"  \"AB\" \"O\"  \"O\" \n",
       " [31] \"AB\" \"O\"  \"O\"  \"A\"  \"A\"  \"O\"  \"A\"  \"AB\" \"O\"  \"O\"  \"A\"  \"B\"  \"B\"  \"O\"  \"O\" \n",
       " [46] \"O\"  \"A\"  \"AB\" \"O\"  \"O\"  \"O\"  \"B\"  \"B\"  \"A\"  \"O\"  \"O\"  \"A\"  \"B\"  \"A\"  \"AB\"\n",
       " [61] \"B\"  \"B\"  \"B\"  \"A\"  \"A\"  \"O\"  \"A\"  \"A\"  \"B\"  \"B\"  \"O\"  \"B\"  \"O\"  \"B\"  \"A\" \n",
       " [76] \"AB\" \"A\"  \"AB\" \"O\"  \"A\"  \"A\"  \"B\"  \"AB\" \"AB\" \"A\"  \"O\"  \"A\"  \"AB\" \"B\"  \"A\" \n",
       " [91] \"B\"  \"B\"  \"A\"  \"A\"  \"O\"  \"A\"  \"AB\" \"O\"  \"O\"  \"A\" "
      ]
     },
     "metadata": {},
     "output_type": "display_data"
    }
   ],
   "source": [
    "blood_type <- c('A','B','B','A','A','O','A','AB','O','O',\n",
    "                'B','A','A','O','A','AB','O','B','B','O',\n",
    "                'A','B','B','A','A','O','A','AB','O','O',\n",
    "                'AB','O','O','A','A','O','A','AB','O','O',\n",
    "                'A','B','B','O','O','O','A','AB','O','O',\n",
    "                'O','B','B','A','O','O','A','B','A','AB',\n",
    "                'B','B','B','A','A','O','A','A','B','B',\n",
    "                'O','B','O','B','A','AB','A','AB','O','A',\n",
    "                'A','B','AB','AB','A','O','A','AB','B','A',\n",
    "                'B','B','A','A','O','A','AB','O','O','A')\n",
    "blood_type                 "
   ]
  },
  {
   "cell_type": "code",
   "execution_count": 6,
   "metadata": {},
   "outputs": [
    {
     "data": {
      "text/html": [
       "100"
      ],
      "text/latex": [
       "100"
      ],
      "text/markdown": [
       "100"
      ],
      "text/plain": [
       "[1] 100"
      ]
     },
     "metadata": {},
     "output_type": "display_data"
    }
   ],
   "source": [
    "length(blood_type)"
   ]
  },
  {
   "cell_type": "code",
   "execution_count": 7,
   "metadata": {},
   "outputs": [
    {
     "data": {
      "text/plain": [
       "blood_type\n",
       " A  O  B AB \n",
       "34 30 23 13 "
      ]
     },
     "metadata": {},
     "output_type": "display_data"
    }
   ],
   "source": [
    "s_bt <- sort(table(blood_type), decreasing = T)\n",
    "s_bt"
   ]
  },
  {
   "cell_type": "code",
   "execution_count": 9,
   "metadata": {
    "collapsed": true
   },
   "outputs": [],
   "source": [
    "par(mfrow = c(1,2))   # par : 그래프의 모양 조절 / mfrow 행 우선배치 / mfcol 열 우선배치"
   ]
  },
  {
   "cell_type": "code",
   "execution_count": 10,
   "metadata": {
    "collapsed": true
   },
   "outputs": [],
   "source": [
    "color <- c('Blue', 'Red', 'Green', 'Yellow')"
   ]
  },
  {
   "cell_type": "code",
   "execution_count": 13,
   "metadata": {},
   "outputs": [
    {
     "data": {
      "image/png": "[encoded data removed]",
      "text/plain": [
       "Plot with title \"Pie Chart for Blood Type\""
      ]
     },
     "metadata": {},
     "output_type": "display_data"
    }
   ],
   "source": [
    "pie(s_bt, col = color, radius = 1, main = 'Pie Chart for Blood Type')  # radius 원의 반지름"
   ]
  },
  {
   "cell_type": "markdown",
   "metadata": {},
   "source": [
    "### 실습 : '제7회 전국동시지방선거'(2018년 6월 13일) 정당별 결과"
   ]
  },
  {
   "cell_type": "markdown",
   "metadata": {},
   "source": [
    "#### 광역자치단체장 선거 결과"
   ]
  },
  {
   "cell_type": "code",
   "execution_count": 16,
   "metadata": {
    "collapsed": true
   },
   "outputs": [],
   "source": [
    "metro_leader <- c(14, 2, 1)\n",
    "party <- c('더불어민주당', '자유한국당', '무소속')\n",
    "party_color <- c('Blue', 'Red', 'Gray')"
   ]
  },
  {
   "cell_type": "code",
   "execution_count": 17,
   "metadata": {},
   "outputs": [
    {
     "data": {
      "text/html": [
       "<dl class=dl-horizontal>\n",
       "\t<dt>더불어민주당</dt>\n",
       "\t\t<dd>14</dd>\n",
       "\t<dt>자유한국당</dt>\n",
       "\t\t<dd>2</dd>\n",
       "\t<dt>무소속</dt>\n",
       "\t\t<dd>1</dd>\n",
       "</dl>\n"
      ],
      "text/latex": [
       "\\begin{description*}\n",
       "\\item[더불어민주당] 14\n",
       "\\item[자유한국당] 2\n",
       "\\item[무소속] 1\n",
       "\\end{description*}\n"
      ],
      "text/markdown": [
       "더불어민주당\n",
       ":   14자유한국당\n",
       ":   2무소속\n",
       ":   1\n",
       "\n"
      ],
      "text/plain": [
       "더불어민주당   자유한국당       무소속 \n",
       "          14            2            1 "
      ]
     },
     "metadata": {},
     "output_type": "display_data"
    }
   ],
   "source": [
    "names(metro_leader) <- party\n",
    "metro_leader"
   ]
  },
  {
   "cell_type": "code",
   "execution_count": 18,
   "metadata": {},
   "outputs": [
    {
     "data": {
      "image/png": "[encoded data removed]",
      "text/plain": [
       "Plot with title \"광역자치단체장 선거 결과\""
      ]
     },
     "metadata": {},
     "output_type": "display_data"
    }
   ],
   "source": [
    "pie(metro_leader, col = party_color, radius = 0.8, main = '광역자치단체장 선거 결과')"
   ]
  },
  {
   "cell_type": "markdown",
   "metadata": {},
   "source": [
    "#### 기초자치단체장 선거 결과"
   ]
  },
  {
   "cell_type": "code",
   "execution_count": 53,
   "metadata": {
    "collapsed": true
   },
   "outputs": [],
   "source": [
    "basic_local_leader <- c(151, 53, 6, 17)\n",
    "party <- c('더불어민주당', '자유한국당', '민주평화당', '무소속')\n",
    "party_color <- c('Blue', 'Red', 'Green', 'Gray')"
   ]
  },
  {
   "cell_type": "code",
   "execution_count": 54,
   "metadata": {},
   "outputs": [
    {
     "data": {
      "image/png": "[encoded data removed]",
      "text/plain": [
       "Plot with title \"기초자치단체장 선거 결과\""
      ]
     },
     "metadata": {},
     "output_type": "display_data"
    }
   ],
   "source": [
    "pie(basic_local_leader, labels = party, col = party_color, radius = 1, main = '기초자치단체장 선거 결과')"
   ]
  },
  {
   "cell_type": "markdown",
   "metadata": {},
   "source": [
    "#### 교육감 선거 결과"
   ]
  },
  {
   "cell_type": "code",
   "execution_count": 43,
   "metadata": {},
   "outputs": [
    {
     "data": {
      "image/png": "[encoded data removed]",
      "text/plain": [
       "Plot with title \"교육감 선거 결과\n",
       "\""
      ]
     },
     "metadata": {},
     "output_type": "display_data"
    }
   ],
   "source": [
    "superintendent <- c(14, 3)\n",
    "Political_propensity <- c('progressivism', ' conservatism')\n",
    "pp_color <- c()\n",
    "names(superintendent) <- Political_propensity\n",
    "pie(superintendent, col = rainbow(length(Political_propensity)), radius = 0.9, main = '교육감 선거 결과\n",
    "')"
   ]
  },
  {
   "cell_type": "markdown",
   "metadata": {},
   "source": [
    "#### 광역자치단체의원 선거 결과 & 기초자치단체의원 선거 결과"
   ]
  },
  {
   "cell_type": "code",
   "execution_count": 44,
   "metadata": {
    "collapsed": true
   },
   "outputs": [],
   "source": [
    "# 광역자치단체의원 선거 결과\n",
    "\n",
    "metro_congressman <- c(652, 137, 11, 5, 3, 16)\n",
    "party_1 <- c('더불어민주당', '자유한국당', '정의당', '바른미래당', '민주평화당', '무소속')\n",
    "color_1 <- c('Blue', 'Red', 'Yellow', 'Mintcream', 'Green', 'Gray')\n",
    "names(metro_congressman) <- party_1 "
   ]
  },
  {
   "cell_type": "code",
   "execution_count": 55,
   "metadata": {
    "collapsed": true
   },
   "outputs": [],
   "source": [
    "# 기초자치단체의원 선거 결과\n",
    "\n",
    "basic_local_congressman <- c(1639, 1009, 49, 26, 21, 11, 171)\n",
    "party_2 <- c('더불어민주당', '자유한국당', '민주평화당', '정의당', '바른미래당', '민중당', '무소속')\n",
    "color_2 <- c('Blue', 'Red', 'Green', 'Yellow', 'Mintcream', 'Orange', 'Gray')"
   ]
  },
  {
   "cell_type": "code",
   "execution_count": 64,
   "metadata": {},
   "outputs": [
    {
     "data": {
      "image/png": "[encoded data removed]",
      "text/plain": [
       "Plot with title \"기초자치단체의원 선거 결과\""
      ]
     },
     "metadata": {},
     "output_type": "display_data"
    }
   ],
   "source": [
    "par(mfrow = c(2, 1))\n",
    "pie(metro_congressman, col = color_1, radius = 1.1, main = '광역자치단체의원 선거 결과' )\n",
    "pie(basic_local_congressman, labels = party_2, col = color_2, radius = 1.1, main = '기초자치단체의원 선거 결과')"
   ]
  }
 ],
 "metadata": {
  "kernelspec": {
   "display_name": "R",
   "language": "R",
   "name": "ir"
  },
  "language_info": {
   "codemirror_mode": "r",
   "file_extension": ".r",
   "mimetype": "text/x-r-source",
   "name": "R",
   "pygments_lexer": "r",
   "version": "3.4.2"
  }
 },
 "nbformat": 4,
 "nbformat_minor": 2
}
